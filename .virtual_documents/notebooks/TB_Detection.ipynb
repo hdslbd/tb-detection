# Import libraries
import os 
import tensorflow as tf
from sklearn.model_selection import train_test_split
from tensorflow.keras.preprocessing.image import ImageDataGenerator
from tensorflow.keras.layers import Conv2D, MaxPooling2D, Flatten, Dense
from tensorflow.keras.models import Sequential


# Define data path
normal_dir = 'data/TB_Chest_Radiography/normal/'
tb_dir = 'data/TB_Chest_Radiography/tuberculosis/' 


normal_list = sorted(os.listdir(normal_dir))
tb_list = sorted(os.listdir(tb_dir))


# Set image dimensions
img_width, img_height = 224, 224 


# Data augmentation and preprocessing (separate generators for normal and TB)
normal_datagen = ImageDataGenerator(rescale=1./255, shear_range=0.2, zoom_range=0.2, horizontal_flip=True)
tb_datagen = ImageDataGenerator(rescale=1./255, shear_range=0.2, zoom_range=0.2, horizontal_flip=True)


# Create separate data generators for normal and TB images
normal_generator = normal_datagen.flow_from_directory(
        normal_dir,
        target_size=(img_width, img_height),
        batch_size=32,
        class_mode='binary',  # Assuming labels are embedded (normal=0, TB=1)
        class_label=0)  # Assign label 0 for normal class


# Split data into training and validation sets
X_train, X_val, y_train, y_val = train_test_split(all_images.filenames, all_images.classes, test_size=0.2, random_state=42)



