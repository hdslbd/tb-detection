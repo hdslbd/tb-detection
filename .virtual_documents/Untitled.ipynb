# Import libraries
import tensorflow as tf
from tensorflow.keras.preprocessing.image import ImageDataGenerator
from tensorflow.keras.layers import Conv2D, MaxPooling2D, Flatten, Dense
from tensorflow.keras.models import Sequential


# Define data path
data_dir = "../tb-detection/"
