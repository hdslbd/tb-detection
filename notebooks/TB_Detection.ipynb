{
 "cells": [
  {
   "cell_type": "code",
   "execution_count": 1,
   "id": "1a0d1220-d7bd-4e45-9bba-1d4dddd3f211",
   "metadata": {},
   "outputs": [],
   "source": [
    "# Import libraries\n",
    "import tensorflow as tf\n",
    "from tensorflow.keras.preprocessing.image import ImageDataGenerator\n",
    "from tensorflow.keras.layers import Conv2D, MaxPooling2D, Flatten, Dense\n",
    "from tensorflow.keras.models import Sequential"
   ]
  },
  {
   "cell_type": "code",
   "execution_count": null,
   "id": "df601637-bdd9-4350-91e8-d188cbf20501",
   "metadata": {},
   "outputs": [],
   "source": [
    "# De